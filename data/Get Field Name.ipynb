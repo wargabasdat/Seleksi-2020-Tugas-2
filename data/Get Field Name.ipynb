{
 "cells": [
  {
   "cell_type": "code",
   "execution_count": 1,
   "metadata": {},
   "outputs": [],
   "source": [
    "import json"
   ]
  },
  {
   "cell_type": "code",
   "execution_count": 2,
   "metadata": {},
   "outputs": [],
   "source": [
    "with open('us_hospital_fixed.json', 'r') as openfile :\n",
    "    hospitals = json.load(openfile)"
   ]
  },
  {
   "cell_type": "code",
   "execution_count": 22,
   "metadata": {},
   "outputs": [],
   "source": [
    "arr_nama = str(hospitals[0].keys()).split('[')[1].split(']')[0].replace(\"'\",\"\").split(', ')"
   ]
  },
  {
   "cell_type": "code",
   "execution_count": 23,
   "metadata": {},
   "outputs": [
    {
     "name": "stdout",
     "output_type": "stream",
     "text": [
      "Name\n",
      "Address\n",
      "Grade Spring 2020\n",
      "Grade Fall 2019\n",
      "Grade Spring 2019\n",
      "Grade Fall 2018\n",
      "Grade Spring 2018\n",
      "Grade Fall 2017\n",
      "Grade Spring 2017\n",
      "Infection MRSA\n",
      "Infection C Diff\n",
      "Infection in Blood\n",
      "Infection in Urinary Tract\n",
      "Infection after Colon Surgery\n",
      "Problem with Surgery Object Left in Patient Body\n",
      "Problem with Surgery Wound Open\n",
      "Problem with Surgery Complications\n",
      "Problem with Surgery Collapsed Lung\n",
      "Problem with Surgery Breathing Problem\n",
      "Problem with Surgery Blood Clot\n",
      "Problem with Surgery Accidental Cuts\n",
      "Practices to Prevent Errors Order Medications through Computer\n",
      "Practices to Prevent Errors Safe Medication Administration\n",
      "Practices to Prevent Errors Handwashing\n",
      "Practices to Prevent Errors Communication about Medicine\n",
      "Practices to Prevent Errors Communication about Discharge\n",
      "Practices to Prevent Errors Staff Work Together\n",
      "Safety Problems Bed Sores\n",
      "Safety Problems Patient Fals and Injuries\n",
      "Safety Problems Air on Gas Bubble in Blood\n",
      "Safety Problems Track and Reduce Risks\n",
      "Doctor Nurse Staff Leadership\n",
      "Doctor Nurse Staff Qualified Nurses\n",
      "Doctor Nurse Staff Trained Doctors for ICU Patients\n",
      "Doctor Nurse Staff Communication with Doctors\n",
      "Doctor Nurse Staff Communication with Nurses\n",
      "Doctor Nurse Staff Responsiveness of Hospital Staff\n"
     ]
    }
   ],
   "source": [
    "for nama in arr_nama :\n",
    "    print(nama)"
   ]
  },
  {
   "cell_type": "code",
   "execution_count": null,
   "metadata": {},
   "outputs": [],
   "source": [
    "# copy the output to field_name_to_export.txt"
   ]
  }
 ],
 "metadata": {
  "kernelspec": {
   "display_name": "Python 3",
   "language": "python",
   "name": "python3"
  },
  "language_info": {
   "codemirror_mode": {
    "name": "ipython",
    "version": 3
   },
   "file_extension": ".py",
   "mimetype": "text/x-python",
   "name": "python",
   "nbconvert_exporter": "python",
   "pygments_lexer": "ipython3",
   "version": "3.6.9"
  }
 },
 "nbformat": 4,
 "nbformat_minor": 2
}
